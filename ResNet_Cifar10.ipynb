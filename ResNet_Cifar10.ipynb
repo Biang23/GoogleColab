{
  "nbformat": 4,
  "nbformat_minor": 0,
  "metadata": {
    "colab": {
      "provenance": [],
      "gpuType": "T4",
      "authorship_tag": "ABX9TyP4+EV0wk02NP6LXCM45/ZJ",
      "include_colab_link": true
    },
    "kernelspec": {
      "name": "python3",
      "display_name": "Python 3"
    },
    "language_info": {
      "name": "python"
    },
    "accelerator": "GPU"
  },
  "cells": [
    {
      "cell_type": "markdown",
      "metadata": {
        "id": "view-in-github",
        "colab_type": "text"
      },
      "source": [
        "<a href=\"https://colab.research.google.com/github/Biang23/GoogleColab/blob/main/ResNet_Cifar10.ipynb\" target=\"_parent\"><img src=\"https://colab.research.google.com/assets/colab-badge.svg\" alt=\"Open In Colab\"/></a>"
      ]
    },
    {
      "cell_type": "code",
      "execution_count": 2,
      "metadata": {
        "id": "5ga4_GDxFYaA"
      },
      "outputs": [],
      "source": [
        "import torch\n",
        "import torchvision\n",
        "import torchvision.transforms as transforms\n",
        "import torch.nn as nn\n",
        "import torch.nn.functional as F\n"
      ]
    },
    {
      "cell_type": "code",
      "source": [
        "# Define model\n",
        "from torchvision.models.resnet import BasicBlock as block\n",
        "\n",
        "class ResNetBasicBlock(nn.Module):\n",
        "  def __init__(self, in_channels, out_channels, stride):\n",
        "    super(ResNetBasicBlock, self).__init__()\n",
        "    self.conv1 = nn.Conv2d(in_channels, out_channels, kernel_size=3, stride=stride, padding=1, bias=False)\n",
        "    self.bn1 = nn.BatchNorm2d(out_channels)\n",
        "    self.conv2 = nn.Conv2d(out_channels, out_channels, kernel_size=3, stride=stride, padding=1, bias=False)\n",
        "    self.bn2 = nn.BatchNorm2d(out_channels)\n",
        "\n",
        "    self.shortcut = nn.Sequential(\n",
        "        nn.Conv2d(in_channels, out_channels, kernel_size=1, stride=stride, padding=0, bias=False),\n",
        "        nn.BatchNorm2d(out_channels),\n",
        "        nn.Conv2d(out_channels, out_channels, kernel_size=1, stride=stride, padding=0, bias=False),\n",
        "        nn.BatchNorm2d(out_channels)\n",
        "    )\n",
        "\n",
        "  def forward(self, x):\n",
        "    residual = self.shortcut(x)\n",
        "    out = self.conv1(x)\n",
        "    out = self.bn1(out)\n",
        "    out = F.relu(out)\n",
        "    out = self.conv2(out)\n",
        "    out = self.bn2(out)\n",
        "    return F.relu(out + residual)\n",
        "\n",
        "\n",
        "class ResNet18(torch.nn.Module):\n",
        "  def __init__(self):\n",
        "    super(ResNet18, self).__init__()\n",
        "    self.conv1 = nn.Conv2d(3, 64, kernel_size=3, stride=1, padding=1)\n",
        "    self.bn1 = nn.BatchNorm2d(64)\n",
        "    self.block1 = nn.Sequential(\n",
        "        ResNetBasicBlock(64, 64, 1),\n",
        "        ResNetBasicBlock(64, 64, 1)\n",
        "    )\n",
        "    self.block2 = nn.Sequential(\n",
        "        ResNetBasicBlock(64, 128, 2),\n",
        "        ResNetBasicBlock(128, 128, 2)\n",
        "    )\n",
        "    self.block3 = nn.Sequential(\n",
        "        ResNetBasicBlock(128, 256, 2),\n",
        "        ResNetBasicBlock(256, 256, 2)\n",
        "    )\n",
        "    self.block4 = nn.Sequential(\n",
        "        ResNetBasicBlock(256, 512, 2),\n",
        "        ResNetBasicBlock(512, 512, 2)\n",
        "    )\n",
        "    # self.avgpool = nn.AdaptiveAvgPool2d((1, 1))\n",
        "    self.fc = nn.Linear(512, 10)\n",
        "\n",
        "  def forward(self, x):\n",
        "    out = self.conv1(x)\n",
        "    out = self.block1(out)\n",
        "    out = self.block2(out)\n",
        "    out = self.block3(out)\n",
        "    out = self.block4(out)\n",
        "    # out = self.avgpool(out)\n",
        "    out = out.reshape(x.shape[0], -1)\n",
        "\n",
        "    out = self.fc(out)\n",
        "    return out\n",
        "\n",
        "model = ResNet18()"
      ],
      "metadata": {
        "id": "pdBE5S9cFxBM"
      },
      "execution_count": 78,
      "outputs": []
    },
    {
      "cell_type": "code",
      "source": [
        "import torch\n",
        "import torch.nn as nn\n",
        "from torch.nn import functional as F\n",
        "\n",
        "\n",
        "class ResNetBasicBlock(nn.Module):\n",
        "    def __init__(self, in_channels, out_channels, stride):\n",
        "        super(ResNetBasicBlock, self).__init__()\n",
        "        self.conv1 = nn.Conv2d(in_channels, out_channels, kernel_size=3, stride=stride, padding=1)\n",
        "        self.bn1 = nn.BatchNorm2d(out_channels)\n",
        "        self.conv2 = nn.Conv2d(out_channels, out_channels, kernel_size=3, stride=stride, padding=1)\n",
        "        self.bn2 = nn.BatchNorm2d(out_channels)\n",
        "\n",
        "    def forward(self, x):\n",
        "        output = self.conv1(x)\n",
        "        output = F.relu(self.bn1(output))\n",
        "        output = self.conv2(output)\n",
        "        output = self.bn2(output)\n",
        "        return F.relu(x + output)\n",
        "\n",
        "\n",
        "class ResNetDownBlock(nn.Module):\n",
        "    def __init__(self, in_channels, out_channels, stride):\n",
        "        super(ResNetDownBlock, self).__init__()\n",
        "        self.conv1 = nn.Conv2d(in_channels, out_channels, kernel_size=3, stride=stride[0], padding=1)\n",
        "        self.bn1 = nn.BatchNorm2d(out_channels)\n",
        "        self.conv2 = nn.Conv2d(out_channels, out_channels, kernel_size=3, stride=stride[1], padding=1)\n",
        "        self.bn2 = nn.BatchNorm2d(out_channels)\n",
        "        self.extra = nn.Sequential(\n",
        "            nn.Conv2d(in_channels, out_channels, kernel_size=1, stride=stride[0], padding=0),\n",
        "            nn.BatchNorm2d(out_channels)\n",
        "        )\n",
        "\n",
        "    def forward(self, x):\n",
        "        extra_x = self.extra(x)\n",
        "        output = self.conv1(x)\n",
        "        out = F.relu(self.bn1(output))\n",
        "\n",
        "        out = self.conv2(out)\n",
        "        out = self.bn2(out)\n",
        "        return F.relu(extra_x + out)\n",
        "\n",
        "\n",
        "class ResNet18_(nn.Module):\n",
        "    def __init__(self):\n",
        "        super(ResNet18_, self).__init__()\n",
        "        self.conv1 = nn.Conv2d(3, 64, kernel_size=3, stride=2, padding=1)\n",
        "        self.bn1 = nn.BatchNorm2d(64)\n",
        "        self.maxpool = nn.MaxPool2d(kernel_size=3, stride=2, padding=1)\n",
        "\n",
        "        self.layer1 = nn.Sequential(RestNetBasicBlock(64, 64, 1),\n",
        "                                    RestNetBasicBlock(64, 64, 1))\n",
        "\n",
        "        self.layer2 = nn.Sequential(RestNetDownBlock(64, 128, [2, 1]),\n",
        "                                    RestNetBasicBlock(128, 128, 1))\n",
        "\n",
        "        self.layer3 = nn.Sequential(RestNetDownBlock(128, 256, [2, 1]),\n",
        "                                    RestNetBasicBlock(256, 256, 1))\n",
        "\n",
        "        self.layer4 = nn.Sequential(RestNetDownBlock(256, 512, [2, 1]),\n",
        "                                    RestNetBasicBlock(512, 512, 1))\n",
        "\n",
        "        self.avgpool = nn.AdaptiveAvgPool2d(output_size=(1, 1))\n",
        "\n",
        "        self.fc = nn.Linear(512, 10)\n",
        "\n",
        "    def forward(self, x):\n",
        "        out = self.conv1(x)\n",
        "        out = self.layer1(out)\n",
        "        out = self.layer2(out)\n",
        "        out = self.layer3(out)\n",
        "        out = self.layer4(out)\n",
        "        out = self.avgpool(out)\n",
        "        out = out.reshape(x.shape[0], -1)\n",
        "        out = self.fc(out)\n",
        "        return out\n",
        "model1 = ResNet18_()"
      ],
      "metadata": {
        "id": "Yx4HSvOLTZso"
      },
      "execution_count": 82,
      "outputs": []
    },
    {
      "cell_type": "code",
      "source": [
        "import torch.optim as optim\n",
        "\n",
        "# Define loss function and optimizer\n",
        "criterion = nn.CrossEntropyLoss()\n",
        "optimizer = optim.SGD(model.parameters(), lr=0.1, momentum=0.9, weight_decay=5e-4)"
      ],
      "metadata": {
        "id": "MMMlGmtvORLW"
      },
      "execution_count": 4,
      "outputs": []
    },
    {
      "cell_type": "code",
      "source": [
        "device = torch.device(\"cuda:0\" if torch.cuda.is_available() else \"cpu\")\n",
        "\n",
        "# Assuming that we are on a CUDA machine, this should print a CUDA device:\n",
        "print(device)"
      ],
      "metadata": {
        "colab": {
          "base_uri": "https://localhost:8080/"
        },
        "id": "qq6spmx9RzuD",
        "outputId": "7d36fa2f-9940-47b8-d164-296c637f34cd"
      },
      "execution_count": 5,
      "outputs": [
        {
          "output_type": "stream",
          "name": "stdout",
          "text": [
            "cuda:0\n"
          ]
        }
      ]
    },
    {
      "cell_type": "code",
      "source": [
        "def accuracy(output, target):\n",
        "    # get the index of the max log-probability\n",
        "    pred = output.max(1, keepdim=True)[1]\n",
        "    return pred.eq(target.view_as(pred)).float().mean()"
      ],
      "metadata": {
        "id": "5Eal30J8UCrd"
      },
      "execution_count": 61,
      "outputs": []
    },
    {
      "cell_type": "code",
      "source": [
        "transform = transforms.Compose([\n",
        "    transforms.RandomCrop(32, padding=4),\n",
        "    transforms.RandomHorizontalFlip(0.5),\n",
        "    transforms.ToTensor(),\n",
        "    transforms.Normalize((0.4914, 0.4822, 0.4465), (0.2023, 0.1994, 0.2010)),\n",
        "])\n",
        "\n",
        "batch_size = 128\n",
        "\n",
        "def get_vis_loader():\n",
        "\n",
        "    trainset = torchvision.datasets.CIFAR10(root='./data', train=True, download=True, transform=transform)\n",
        "    trainloader = torch.utils.data.DataLoader(trainset, batch_size=4, shuffle=True, num_workers=2)\n",
        "    testset = torchvision.datasets.CIFAR10(root='./data', train=False, download=True, transform=transform)\n",
        "    testloader = torch.utils.data.DataLoader(testset, batch_size=4, shuffle=False, num_workers=2)\n",
        "    return trainloader, testloader\n",
        "\n",
        "def get_train_loader(batch_size, transform):\n",
        "    trainset = torchvision.datasets.CIFAR10(root='./data', train=True, download=True, transform=transform)\n",
        "    trainloader = torch.utils.data.DataLoader(trainset, batch_size=batch_size, shuffle=True, num_workers=2)\n",
        "    return trainloader\n",
        "\n",
        "def get_test_loader(batch_size, transform):\n",
        "    testset = torchvision.datasets.CIFAR10(root='./data', train=False, download=True, transform=transform)\n",
        "    testloader = torch.utils.data.DataLoader(testset, batch_size=batch_size, shuffle=False, num_workers=2)\n",
        "    return testloader\n",
        "\n",
        "classes = ('plane', 'car', 'bird', 'cat',\n",
        "           'deer', 'dog', 'frog', 'horse', 'ship', 'truck')\n",
        "\n",
        "vistrainloader, vistestloader = get_vis_loader()\n",
        "trainloader = get_train_loader(batch_size, transform)\n",
        "testloader = get_test_loader(batch_size, transform)"
      ],
      "metadata": {
        "colab": {
          "base_uri": "https://localhost:8080/"
        },
        "id": "pmq2Kh5LSKyj",
        "outputId": "f97bdcef-d913-4909-ec39-0f415692e8af"
      },
      "execution_count": 6,
      "outputs": [
        {
          "output_type": "stream",
          "name": "stdout",
          "text": [
            "Downloading https://www.cs.toronto.edu/~kriz/cifar-10-python.tar.gz to ./data/cifar-10-python.tar.gz\n"
          ]
        },
        {
          "output_type": "stream",
          "name": "stderr",
          "text": [
            "100%|██████████| 170498071/170498071 [00:04<00:00, 34102962.46it/s]\n"
          ]
        },
        {
          "output_type": "stream",
          "name": "stdout",
          "text": [
            "Extracting ./data/cifar-10-python.tar.gz to ./data\n",
            "Files already downloaded and verified\n",
            "Files already downloaded and verified\n",
            "Files already downloaded and verified\n"
          ]
        }
      ]
    },
    {
      "cell_type": "code",
      "source": [
        "import matplotlib.pyplot as plt\n",
        "import numpy as np\n",
        "\n",
        "# functions to show an image\n",
        "def imshow(img):\n",
        "    img = img / 2 + 0.5     # unnormalize\n",
        "    npimg = img.numpy()\n",
        "    plt.imshow(np.transpose(npimg, (1, 2, 0)))\n",
        "    plt.show()\n",
        "\n",
        "# get some random training images\n",
        "dataiter = iter(vistrainloader)\n",
        "images, labels = next(dataiter)\n",
        "\n",
        "# show images\n",
        "imshow(torchvision.utils.make_grid(images))\n",
        "# print labels\n",
        "print(' '.join('%5s' % classes[labels[j]] for j in range(4)))"
      ],
      "metadata": {
        "colab": {
          "base_uri": "https://localhost:8080/",
          "height": 228
        },
        "id": "KR21bx-Rn8T-",
        "outputId": "cba6fa58-d4cc-4417-a92f-dfd1f0b73da4"
      },
      "execution_count": 7,
      "outputs": [
        {
          "output_type": "stream",
          "name": "stderr",
          "text": [
            "WARNING:matplotlib.image:Clipping input data to the valid range for imshow with RGB data ([0..1] for floats or [0..255] for integers).\n"
          ]
        },
        {
          "output_type": "display_data",
          "data": {
            "text/plain": [
              "<Figure size 640x480 with 1 Axes>"
            ],
            "image/png": "[encoded data removed]"
          },
          "metadata": {}
        },
        {
          "output_type": "stream",
          "name": "stdout",
          "text": [
            " bird  ship  ship  deer\n"
          ]
        }
      ]
    },
    {
      "cell_type": "code",
      "source": [
        "def accuracy(output, target):\n",
        "    # get the index of the max log-probability\n",
        "    pred = output.max(1, keepdim=True)[1]\n",
        "    return pred.eq(target.view_as(pred)).float().mean()"
      ],
      "metadata": {
        "id": "8p6iadu7A4hQ"
      },
      "execution_count": null,
      "outputs": []
    },
    {
      "cell_type": "code",
      "source": [
        "def forward_step(net, inputs, labels):\n",
        "    outputs = net(inputs)\n",
        "    loss = criterion(outputs, labels)\n",
        "    return outputs, loss, labels\n",
        "\n",
        "\n",
        "def train(net, loader, optimizer, max_epoch):\n",
        "    net.to(device)\n",
        "    net.train()\n",
        "    N = len(loader)\n",
        "    print_interval = (N // 8 // 100 + 1) * 100\n",
        "    for epoch in range(max_epoch):  # loop over the dataset multiple times\n",
        "\n",
        "        running_loss = 0.0\n",
        "        running_acc = 0.0\n",
        "        for i, data in enumerate(loader, 0):\n",
        "            # get the inputs; data is a list of [inputs, labels]\n",
        "            images, labels = data[0].to(device), data[1].to(device)\n",
        "\n",
        "            # zero the parameter gradients\n",
        "            optimizer.zero_grad()\n",
        "\n",
        "            # forward + backward + optimize\n",
        "            outputs, loss, labels = forward_step(net, images, labels)\n",
        "            loss.backward()\n",
        "            optimizer.step()\n",
        "\n",
        "            # print statistics\n",
        "            running_loss += loss.item()\n",
        "            running_acc += accuracy(outputs, labels).item()\n",
        "            if (i + 1) % print_interval == 0:\n",
        "                print('Epoch: [%d / %d], batches: [%d / %d], loss: %.3f, acc: %.2f' %\n",
        "                      (epoch + 1, max_epoch, i + 1, N,\n",
        "                       running_loss / print_interval, 100 * running_acc / print_interval))\n",
        "                running_loss = 0.0\n",
        "                running_acc = 0.0\n",
        "\n",
        "    print('Finished Training')"
      ],
      "metadata": {
        "id": "RS0E70JaBDyl"
      },
      "execution_count": 41,
      "outputs": []
    },
    {
      "cell_type": "code",
      "source": [
        "train(model, trainloader, optimizer, 5)"
      ],
      "metadata": {
        "colab": {
          "base_uri": "https://localhost:8080/"
        },
        "id": "DwBt7kVkBIq5",
        "outputId": "7abf525d-6504-46ef-c957-ca366b445c2f"
      },
      "execution_count": 79,
      "outputs": [
        {
          "output_type": "stream",
          "name": "stdout",
          "text": [
            "Epoch: [1 / 5], batches: [100 / 391], loss: 2.421, acc: 10.55\n",
            "Epoch: [1 / 5], batches: [200 / 391], loss: 2.415, acc: 10.65\n",
            "Epoch: [1 / 5], batches: [300 / 391], loss: 2.426, acc: 10.07\n",
            "Epoch: [2 / 5], batches: [100 / 391], loss: 2.424, acc: 10.02\n",
            "Epoch: [2 / 5], batches: [200 / 391], loss: 2.431, acc: 10.02\n",
            "Epoch: [2 / 5], batches: [300 / 391], loss: 2.416, acc: 10.00\n",
            "Epoch: [3 / 5], batches: [100 / 391], loss: 2.426, acc: 10.23\n",
            "Epoch: [3 / 5], batches: [200 / 391], loss: 2.427, acc: 10.68\n",
            "Epoch: [3 / 5], batches: [300 / 391], loss: 2.426, acc: 10.24\n",
            "Epoch: [4 / 5], batches: [100 / 391], loss: 2.420, acc: 10.14\n",
            "Epoch: [4 / 5], batches: [200 / 391], loss: 2.423, acc: 9.88\n",
            "Epoch: [4 / 5], batches: [300 / 391], loss: 2.426, acc: 10.02\n",
            "Epoch: [5 / 5], batches: [100 / 391], loss: 2.420, acc: 10.28\n",
            "Epoch: [5 / 5], batches: [200 / 391], loss: 2.432, acc: 10.06\n",
            "Epoch: [5 / 5], batches: [300 / 391], loss: 2.427, acc: 10.03\n",
            "Finished Training\n"
          ]
        }
      ]
    }
  ]
}