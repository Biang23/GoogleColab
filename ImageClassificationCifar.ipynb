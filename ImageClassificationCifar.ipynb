{
  "cells": [
    {
      "cell_type": "markdown",
      "metadata": {
        "id": "view-in-github",
        "colab_type": "text"
      },
      "source": [
        "<a href=\"https://colab.research.google.com/github/Biang23/GoogleColab/blob/main/ImageClassificationCifar.ipynb\" target=\"_parent\"><img src=\"https://colab.research.google.com/assets/colab-badge.svg\" alt=\"Open In Colab\"/></a>"
      ]
    },
    {
      "cell_type": "markdown",
      "metadata": {
        "id": "LJD4oUUKEheQ"
      },
      "source": [
        "Assignmnet 1: Image Classification with Neural Networks\n",
        "=====================\n",
        "\n",
        "Data in Deep Learning\n",
        "----------------\n",
        "\n",
        "Generally, when you have to deal with image, text, audio or video data,\n",
        "you can use standard python packages that load data into a numpy array.\n",
        "Then you can convert this array into a ``torch.*Tensor``.\n",
        "\n",
        "-  For images, packages such as Pillow, OpenCV are useful\n",
        "-  For audio, packages such as scipy and librosa\n",
        "-  For text, either raw Python or Cython based loading, or NLTK and\n",
        "   SpaCy are useful\n",
        "\n",
        "Specifically for vision, we have created a package called\n",
        "``torchvision``, that has data loaders for common datasets such as\n",
        "ImageNet, CIFAR10, MNIST, etc. and data transformers for images, viz.,\n",
        "``torchvision.datasets`` and ``torch.utils.data.DataLoader``.\n",
        "\n",
        "This provides a huge convenience and avoids writing boilerplate code.\n",
        "\n",
        "For this assignment, we will use the CIFAR10 dataset.\n",
        "\n",
        "It has the classes:\n",
        "\n",
        "‘airplane’, ‘automobile’, ‘bird’, ‘cat’, ‘deer’,\n",
        "‘dog’, ‘frog’, ‘horse’, ‘ship’, ‘truck’.\n",
        "\n",
        "The images in CIFAR-10 are of size 3x32x32, i.e. 3-channel color images of 32x32 pixels in size.\n",
        "\n",
        "\n",
        "Training an image classifier\n",
        "----------------------------\n",
        "\n",
        "We will do the following steps in order:\n",
        "\n",
        "1. Load and normalize the CIFAR10 training and test datasets using\n",
        "   ``torchvision``\n",
        "2. Define a Convolutional Neural Network\n",
        "3. Define a loss function\n",
        "4. Train the network on the training data\n",
        "5. Test the network on the test data\n",
        "\n",
        "1. Load and normalize CIFAR10\n",
        "\n",
        "\n",
        "Using ``torchvision``, it’s extremely easy to load CIFAR10.\n",
        "\n"
      ]
    },
    {
      "cell_type": "code",
      "execution_count": 1,
      "metadata": {
        "id": "gb7I9bKSEheS"
      },
      "outputs": [],
      "source": [
        "import torch\n",
        "import torchvision\n",
        "import torchvision.transforms as transforms"
      ]
    },
    {
      "cell_type": "markdown",
      "metadata": {
        "id": "fgBKuHNUEheT"
      },
      "source": [
        "## Training on GPU?"
      ]
    },
    {
      "cell_type": "code",
      "execution_count": 2,
      "metadata": {
        "colab": {
          "base_uri": "https://localhost:8080/"
        },
        "id": "le-F08ejEheT",
        "outputId": "c4ce5d9f-c008-4631-e03f-2f0c256a71ae"
      },
      "outputs": [
        {
          "output_type": "stream",
          "name": "stdout",
          "text": [
            "cuda:0\n"
          ]
        }
      ],
      "source": [
        "device = torch.device(\"cuda:0\" if torch.cuda.is_available() else \"cpu\")\n",
        "\n",
        "# Assuming that we are on a CUDA machine, this should print a CUDA device:\n",
        "print(device)"
      ]
    },
    {
      "cell_type": "markdown",
      "metadata": {
        "id": "L5p5JrNYEheU"
      },
      "source": [
        "The rest of this section assumes that ``device`` is a CUDA device."
      ]
    },
    {
      "cell_type": "markdown",
      "metadata": {
        "id": "cjvuXeXmEheV"
      },
      "source": [
        "## Define the dataset and dataloader\n",
        "\n",
        "The output of torchvision datasets are PILImage images of range [0, 1].\n",
        "We transform them to Tensors of normalized range [-1, 1].\n",
        "\n"
      ]
    },
    {
      "cell_type": "code",
      "execution_count": 3,
      "metadata": {
        "colab": {
          "base_uri": "https://localhost:8080/"
        },
        "id": "yeABXirNEheV",
        "outputId": "30737263-aa32-48b5-8db2-adb23a0e37f5"
      },
      "outputs": [
        {
          "output_type": "stream",
          "name": "stdout",
          "text": [
            "Downloading https://www.cs.toronto.edu/~kriz/cifar-10-python.tar.gz to ./data/cifar-10-python.tar.gz\n"
          ]
        },
        {
          "output_type": "stream",
          "name": "stderr",
          "text": [
            "100%|██████████| 170498071/170498071 [00:15<00:00, 11102741.68it/s]\n"
          ]
        },
        {
          "output_type": "stream",
          "name": "stdout",
          "text": [
            "Extracting ./data/cifar-10-python.tar.gz to ./data\n",
            "Files already downloaded and verified\n",
            "Files already downloaded and verified\n",
            "Files already downloaded and verified\n"
          ]
        }
      ],
      "source": [
        "transform = transforms.Compose(\n",
        "    [transforms.ToTensor(),\n",
        "     transforms.Normalize((0.5, 0.5, 0.5), (0.5, 0.5, 0.5))])\n",
        "\n",
        "batch_size = 64\n",
        "\n",
        "def get_vis_loader():\n",
        "    transform = transforms.Compose(\n",
        "    [transforms.ToTensor(),\n",
        "     transforms.Normalize((0.5, 0.5, 0.5), (0.5, 0.5, 0.5))])\n",
        "\n",
        "    trainset = torchvision.datasets.CIFAR10(root='./data', train=True,\n",
        "                                            download=True, transform=transform)\n",
        "    trainloader = torch.utils.data.DataLoader(trainset, batch_size=4,\n",
        "                                              shuffle=True, num_workers=2)\n",
        "    testset = torchvision.datasets.CIFAR10(root='./data', train=False,\n",
        "                                           download=True, transform=transform)\n",
        "    testloader = torch.utils.data.DataLoader(testset, batch_size=4,\n",
        "                                             shuffle=False, num_workers=2)\n",
        "    return trainloader, testloader\n",
        "\n",
        "def get_train_loader(batch_size, transform):\n",
        "    trainset = torchvision.datasets.CIFAR10(root='./data', train=True,\n",
        "                                            download=True, transform=transform)\n",
        "    trainloader = torch.utils.data.DataLoader(trainset, batch_size=batch_size,\n",
        "                                              shuffle=True, num_workers=2)\n",
        "    return trainloader\n",
        "\n",
        "def get_test_loader(batch_size, transform):\n",
        "    testset = torchvision.datasets.CIFAR10(root='./data', train=False,\n",
        "                                           download=True, transform=transform)\n",
        "    testloader = torch.utils.data.DataLoader(testset, batch_size=batch_size,\n",
        "                                             shuffle=False, num_workers=2)\n",
        "    return testloader\n",
        "\n",
        "classes = ('plane', 'car', 'bird', 'cat',\n",
        "           'deer', 'dog', 'frog', 'horse', 'ship', 'truck')\n",
        "\n",
        "vistrainloader, vistestloader = get_vis_loader()\n",
        "trainloader = get_train_loader(batch_size, transform)\n",
        "testloader = get_test_loader(batch_size, transform)"
      ]
    },
    {
      "cell_type": "markdown",
      "metadata": {
        "id": "s8UI-5awEheV"
      },
      "source": [
        "## Visualization\n",
        "\n",
        "Let us show some of the training images, for fun.\n",
        "\n"
      ]
    },
    {
      "cell_type": "code",
      "execution_count": 4,
      "metadata": {
        "colab": {
          "base_uri": "https://localhost:8080/",
          "height": 210
        },
        "id": "TItis2bPEheV",
        "outputId": "43bad6f6-e81f-49fb-8f35-2e8f6454bba9"
      },
      "outputs": [
        {
          "output_type": "display_data",
          "data": {
            "text/plain": [
              "<Figure size 640x480 with 1 Axes>"
            ],
            "image/png": "[encoded data removed]"
          },
          "metadata": {}
        },
        {
          "output_type": "stream",
          "name": "stdout",
          "text": [
            "  dog horse   dog  frog\n"
          ]
        }
      ],
      "source": [
        "import matplotlib.pyplot as plt\n",
        "import numpy as np\n",
        "\n",
        "# functions to show an image\n",
        "def imshow(img):\n",
        "    img = img / 2 + 0.5     # unnormalize\n",
        "    npimg = img.numpy()\n",
        "    plt.imshow(np.transpose(npimg, (1, 2, 0)))\n",
        "    plt.show()\n",
        "\n",
        "# get some random training images\n",
        "dataiter = iter(vistrainloader)\n",
        "images, labels = next(dataiter)\n",
        "\n",
        "# show images\n",
        "imshow(torchvision.utils.make_grid(images))\n",
        "# print labels\n",
        "print(' '.join('%5s' % classes[labels[j]] for j in range(4)))"
      ]
    },
    {
      "cell_type": "markdown",
      "metadata": {
        "id": "kV_mr3dsEheW"
      },
      "source": [
        "## Define a Neural Network"
      ]
    },
    {
      "cell_type": "code",
      "execution_count": 5,
      "metadata": {
        "id": "u-nVQwavEheW"
      },
      "outputs": [],
      "source": [
        "import torch.nn as nn\n",
        "import torch.nn.functional as F\n",
        "\n",
        "class NeuralNet(nn.Module):\n",
        "    def __init__(self):\n",
        "        super().__init__()\n",
        "        self.fc1 = nn.Linear(3*32*32, 128)\n",
        "        self.fc2 = nn.Linear(128, 256)\n",
        "        self.fc3 = nn.Linear(256, 512)\n",
        "        self.fc4 = nn.Linear(512, 10)\n",
        "\n",
        "    def forward(self, x):\n",
        "        x = torch.flatten(x, 1) # flatten all dimensions except batch\n",
        "        x = F.relu(self.fc1(x))\n",
        "        x = F.relu(self.fc2(x))\n",
        "        x = F.relu(self.fc3(x))\n",
        "        x = self.fc4(x)\n",
        "        return x\n",
        "\n",
        "fc_net = NeuralNet()"
      ]
    },
    {
      "cell_type": "markdown",
      "metadata": {
        "id": "0cFBx4gCEheW"
      },
      "source": [
        "## Define a Loss function and optimizer\n",
        "\n",
        "Let's use a Classification Cross-Entropy loss and SGD with momentum.\n",
        "\n"
      ]
    },
    {
      "cell_type": "code",
      "execution_count": 6,
      "metadata": {
        "id": "doKWTbAmEheW"
      },
      "outputs": [],
      "source": [
        "import torch.optim as optim\n",
        "\n",
        "def get_optimizer(net, lr):\n",
        "    optimizer = optim.SGD(net.parameters(), lr=lr, momentum=0.9)\n",
        "    return optimizer\n",
        "\n",
        "def accuracy(output, target):\n",
        "    # get the index of the max log-probability\n",
        "    pred = output.max(1, keepdim=True)[1]\n",
        "    return pred.eq(target.view_as(pred)).float().mean()\n",
        "\n",
        "criterion = nn.CrossEntropyLoss()\n",
        "optimizer = get_optimizer(fc_net, 0.01)"
      ]
    },
    {
      "cell_type": "markdown",
      "metadata": {
        "id": "4T-hIQh_EheW"
      },
      "source": [
        "## Define training code"
      ]
    },
    {
      "cell_type": "code",
      "execution_count": 32,
      "metadata": {
        "id": "uXM-iCWvEheW"
      },
      "outputs": [],
      "source": [
        "def forward_step(net, inputs, labels):\n",
        "    outputs = net(inputs)\n",
        "    loss = criterion(outputs, labels)\n",
        "    return outputs, loss, labels\n",
        "\n",
        "\n",
        "def train(net, loader, optimizer, max_epoch):\n",
        "    net.to(device)\n",
        "    net.train()\n",
        "    N = len(loader)\n",
        "    print_interval = (N // 8 // 100 + 1) * 100\n",
        "    for epoch in range(max_epoch):  # loop over the dataset multiple times\n",
        "\n",
        "        running_loss = 0.0\n",
        "        running_acc = 0.0\n",
        "        for i, data in enumerate(loader, 0):\n",
        "            # get the inputs; data is a list of [inputs, labels]\n",
        "            images, labels = data[0].to(device), data[1].to(device)\n",
        "\n",
        "            # zero the parameter gradients\n",
        "            optimizer.zero_grad()\n",
        "\n",
        "            # forward + backward + optimize\n",
        "            outputs, loss, labels = forward_step(net, images, labels)\n",
        "            loss.backward()\n",
        "            optimizer.step()\n",
        "\n",
        "            # print statistics\n",
        "            running_loss += loss.item()\n",
        "            running_acc += accuracy(outputs, labels).item()\n",
        "            if (i + 1) % print_interval == 0:\n",
        "                print('Epoch: [%d / %d], batches: [%d / %d], loss: %.3f, acc: %.2f' %\n",
        "                      (epoch + 1, max_epoch, i + 1, N,\n",
        "                       running_loss / print_interval, 100 * running_acc / print_interval))\n",
        "                running_loss = 0.0\n",
        "                running_acc = 0.0\n",
        "\n",
        "    print('Finished Training')"
      ]
    },
    {
      "cell_type": "markdown",
      "metadata": {
        "id": "52AfDIVPEheX"
      },
      "source": [
        "## Train the network\n",
        "\n",
        "This is when things start to get interesting.\n",
        "We simply have to loop over our data iterator, and feed the inputs to the\n",
        "network and optimize.\n",
        "\n"
      ]
    },
    {
      "cell_type": "code",
      "execution_count": 33,
      "metadata": {
        "colab": {
          "base_uri": "https://localhost:8080/"
        },
        "id": "WKA5S80JEheX",
        "outputId": "cd3e0bdb-21ff-4f1a-e231-2b1af375edc5"
      },
      "outputs": [
        {
          "output_type": "stream",
          "name": "stdout",
          "text": [
            "Epoch: [1 / 5], batches: [100 / 782], loss: 2.198, acc: 20.34\n",
            "Epoch: [1 / 5], batches: [200 / 782], loss: 1.917, acc: 30.61\n",
            "Epoch: [1 / 5], batches: [300 / 782], loss: 1.735, acc: 36.86\n",
            "Epoch: [1 / 5], batches: [400 / 782], loss: 1.680, acc: 40.31\n",
            "Epoch: [1 / 5], batches: [500 / 782], loss: 1.674, acc: 40.45\n",
            "Epoch: [1 / 5], batches: [600 / 782], loss: 1.629, acc: 42.20\n",
            "Epoch: [1 / 5], batches: [700 / 782], loss: 1.618, acc: 42.16\n",
            "Epoch: [2 / 5], batches: [100 / 782], loss: 1.518, acc: 45.41\n",
            "Epoch: [2 / 5], batches: [200 / 782], loss: 1.524, acc: 45.53\n",
            "Epoch: [2 / 5], batches: [300 / 782], loss: 1.507, acc: 45.55\n",
            "Epoch: [2 / 5], batches: [400 / 782], loss: 1.480, acc: 46.92\n",
            "Epoch: [2 / 5], batches: [500 / 782], loss: 1.474, acc: 48.77\n",
            "Epoch: [2 / 5], batches: [600 / 782], loss: 1.476, acc: 47.78\n",
            "Epoch: [2 / 5], batches: [700 / 782], loss: 1.432, acc: 48.94\n",
            "Epoch: [3 / 5], batches: [100 / 782], loss: 1.366, acc: 51.64\n",
            "Epoch: [3 / 5], batches: [200 / 782], loss: 1.367, acc: 51.33\n",
            "Epoch: [3 / 5], batches: [300 / 782], loss: 1.352, acc: 52.53\n",
            "Epoch: [3 / 5], batches: [400 / 782], loss: 1.369, acc: 52.94\n",
            "Epoch: [3 / 5], batches: [500 / 782], loss: 1.362, acc: 51.33\n",
            "Epoch: [3 / 5], batches: [600 / 782], loss: 1.362, acc: 51.84\n",
            "Epoch: [3 / 5], batches: [700 / 782], loss: 1.335, acc: 52.42\n",
            "Epoch: [4 / 5], batches: [100 / 782], loss: 1.275, acc: 55.55\n",
            "Epoch: [4 / 5], batches: [200 / 782], loss: 1.267, acc: 54.70\n",
            "Epoch: [4 / 5], batches: [300 / 782], loss: 1.304, acc: 53.34\n",
            "Epoch: [4 / 5], batches: [400 / 782], loss: 1.252, acc: 55.84\n",
            "Epoch: [4 / 5], batches: [500 / 782], loss: 1.270, acc: 54.44\n",
            "Epoch: [4 / 5], batches: [600 / 782], loss: 1.268, acc: 55.22\n",
            "Epoch: [4 / 5], batches: [700 / 782], loss: 1.276, acc: 54.52\n",
            "Epoch: [5 / 5], batches: [100 / 782], loss: 1.190, acc: 57.81\n",
            "Epoch: [5 / 5], batches: [200 / 782], loss: 1.196, acc: 57.56\n",
            "Epoch: [5 / 5], batches: [300 / 782], loss: 1.199, acc: 56.94\n",
            "Epoch: [5 / 5], batches: [400 / 782], loss: 1.212, acc: 56.91\n",
            "Epoch: [5 / 5], batches: [500 / 782], loss: 1.220, acc: 56.67\n",
            "Epoch: [5 / 5], batches: [600 / 782], loss: 1.222, acc: 57.08\n",
            "Epoch: [5 / 5], batches: [700 / 782], loss: 1.206, acc: 57.17\n",
            "Finished Training\n"
          ]
        }
      ],
      "source": [
        "train(fc_net, trainloader, optimizer, 5)"
      ]
    },
    {
      "cell_type": "markdown",
      "metadata": {
        "id": "to5Vx_WeEheX"
      },
      "source": [
        "## Let's quickly save our trained model:\n",
        "\n"
      ]
    },
    {
      "cell_type": "code",
      "execution_count": 8,
      "metadata": {
        "id": "SSIoTZ9aEheX"
      },
      "outputs": [],
      "source": [
        "PATH = './checkpoints/cifar_net.pth'\n",
        "\n",
        "def save_model(net, path):\n",
        "    torch.save(net.state_dict(), path)\n",
        "\n",
        "save_model(fc_net, PATH)"
      ]
    },
    {
      "cell_type": "markdown",
      "metadata": {
        "id": "hSA1-FAEEheY"
      },
      "source": [
        "## Test the network on the test data\n",
        "\n",
        "\n",
        "We have trained the network for 2 passes over the training dataset.\n",
        "But we need to check if the network has learnt anything at all.\n",
        "\n",
        "We will check this by predicting the class label that the neural network\n",
        "outputs, and checking it against the ground-truth. If the prediction is\n",
        "correct, we add the sample to the list of correct predictions.\n",
        "\n",
        "Okay, first step. Let us display an image from the test set to get familiar.\n",
        "\n"
      ]
    },
    {
      "cell_type": "code",
      "execution_count": 35,
      "metadata": {
        "colab": {
          "base_uri": "https://localhost:8080/",
          "height": 210
        },
        "id": "obStmUXmEheY",
        "outputId": "255ceef3-dec7-437a-d2c2-ef89b56b249f"
      },
      "outputs": [
        {
          "output_type": "display_data",
          "data": {
            "text/plain": [
              "<Figure size 640x480 with 1 Axes>"
            ],
            "image/png": "[encoded data removed]"
          },
          "metadata": {}
        },
        {
          "output_type": "stream",
          "name": "stdout",
          "text": [
            "GroundTruth:    cat  ship  ship plane\n"
          ]
        }
      ],
      "source": [
        "dataiter = iter(vistestloader)\n",
        "images, labels = next(dataiter)\n",
        "\n",
        "# print images\n",
        "imshow(torchvision.utils.make_grid(images))\n",
        "print('GroundTruth: ', ' '.join('%5s' % classes[labels[j]] for j in range(4)))"
      ]
    },
    {
      "cell_type": "markdown",
      "metadata": {
        "id": "n0M7aMqiEheY"
      },
      "source": [
        "## Load a model\n",
        "Next, let's load back in our saved model (note: saving and re-loading the model\n",
        "wasn't necessary here, we only did it to illustrate how to do so):\n",
        "\n"
      ]
    },
    {
      "cell_type": "code",
      "execution_count": 36,
      "metadata": {
        "colab": {
          "base_uri": "https://localhost:8080/"
        },
        "id": "HgA_Sv_kEheY",
        "outputId": "0f84863c-8e09-43e1-b052-68e54aecb0b6"
      },
      "outputs": [
        {
          "output_type": "stream",
          "name": "stderr",
          "text": [
            "<ipython-input-36-c79af5d30dda>:4: FutureWarning: You are using `torch.load` with `weights_only=False` (the current default value), which uses the default pickle module implicitly. It is possible to construct malicious pickle data which will execute arbitrary code during unpickling (See https://github.com/pytorch/pytorch/blob/main/SECURITY.md#untrusted-models for more details). In a future release, the default value for `weights_only` will be flipped to `True`. This limits the functions that could be executed during unpickling. Arbitrary objects will no longer be allowed to be loaded via this mode unless they are explicitly allowlisted by the user via `torch.serialization.add_safe_globals`. We recommend you start setting `weights_only=True` for any use case where you don't have full control of the loaded file. Please open an issue on GitHub for any issues related to this experimental feature.\n",
            "  net.load_state_dict(torch.load(path))\n"
          ]
        }
      ],
      "source": [
        "net = NeuralNet()\n",
        "\n",
        "def load_model(net, path):\n",
        "    net.load_state_dict(torch.load(path))\n",
        "\n",
        "load_model(net, PATH)"
      ]
    },
    {
      "cell_type": "markdown",
      "metadata": {
        "id": "XkUDIH0jEheY"
      },
      "source": [
        "Okay, now let us see what the neural network thinks these examples above are:\n",
        "\n"
      ]
    },
    {
      "cell_type": "code",
      "execution_count": 37,
      "metadata": {
        "id": "Ieh-WYemEheY"
      },
      "outputs": [],
      "source": [
        "outputs = net(images)"
      ]
    },
    {
      "cell_type": "markdown",
      "metadata": {
        "id": "sRVZkWkZEheZ"
      },
      "source": [
        "The outputs are energies for the 10 classes.\n",
        "The higher the energy for a class, the more the network\n",
        "thinks that the image is of the particular class.\n",
        "So, let's get the index of the highest energy:\n",
        "\n"
      ]
    },
    {
      "cell_type": "code",
      "execution_count": 38,
      "metadata": {
        "colab": {
          "base_uri": "https://localhost:8080/"
        },
        "id": "YeKRyeA2EheZ",
        "outputId": "35cd4896-3c58-45f7-863a-15f8e06e1752"
      },
      "outputs": [
        {
          "output_type": "stream",
          "name": "stdout",
          "text": [
            "Predicted:   deer truck plane plane\n"
          ]
        }
      ],
      "source": [
        "_, predicted = torch.max(outputs, 1)\n",
        "\n",
        "print('Predicted: ', ' '.join('%5s' % classes[predicted[j]]\n",
        "                              for j in range(4)))"
      ]
    },
    {
      "cell_type": "markdown",
      "metadata": {
        "id": "0kbZeMc1EheZ"
      },
      "source": [
        "## Define testing code"
      ]
    },
    {
      "cell_type": "code",
      "execution_count": 22,
      "metadata": {
        "id": "E2gPVKA3EheZ"
      },
      "outputs": [],
      "source": [
        "def test(net, testloader):\n",
        "    correct = 0\n",
        "    total = 0\n",
        "    net.to(device)\n",
        "    net.eval()\n",
        "    # since we're not training, we don't need to calculate the gradients for our outputs\n",
        "    with torch.no_grad():\n",
        "        for data in testloader:\n",
        "            images, labels = data[0].to(device), data[1].to(device)\n",
        "            # calculate outputs by running images through the network\n",
        "            outputs = net(images)\n",
        "            # the class with the highest energy is what we choose as prediction\n",
        "            _, predicted = torch.max(outputs.data, 1)\n",
        "            total += labels.size(0)\n",
        "            correct += (predicted == labels).sum().item()\n",
        "\n",
        "    print('Accuracy of the network on the 10000 test images: %d %%' % (\n",
        "        100 * correct / total))"
      ]
    },
    {
      "cell_type": "code",
      "execution_count": 40,
      "metadata": {
        "colab": {
          "base_uri": "https://localhost:8080/"
        },
        "id": "aBC_T3fKEheZ",
        "outputId": "11085c48-901c-4daa-c955-a38d7920b163"
      },
      "outputs": [
        {
          "output_type": "stream",
          "name": "stdout",
          "text": [
            "Accuracy of the network on the 10000 test images: 53 %\n"
          ]
        }
      ],
      "source": [
        "test(net, testloader)"
      ]
    },
    {
      "cell_type": "markdown",
      "metadata": {
        "id": "QQoIy_BiEheZ"
      },
      "source": [
        "## See accuracy of each class\n",
        "\n",
        "That looks way better than chance, which is 10% accuracy (randomly picking\n",
        "a class out of 10 classes).\n",
        "Seems like the network learnt something.\n",
        "\n",
        "Hmmm, what are the classes that performed well, and the classes that did\n",
        "not perform well:\n",
        "\n"
      ]
    },
    {
      "cell_type": "code",
      "execution_count": 42,
      "metadata": {
        "id": "BUcpWtcuEheZ"
      },
      "outputs": [],
      "source": [
        "def class_test(net, testloader):\n",
        "    # prepare to count predictions for each class\n",
        "    correct_pred = {classname: 0 for classname in classes}\n",
        "    total_pred = {classname: 0 for classname in classes}\n",
        "\n",
        "    net.to(device)\n",
        "    net.eval()\n",
        "    # again no gradients needed\n",
        "    with torch.no_grad():\n",
        "        for data in testloader:\n",
        "            images, labels = data[0].to(device), data[1].to(device)\n",
        "            outputs = net(images)\n",
        "            _, predictions = torch.max(outputs, 1)\n",
        "            # collect the correct predictions for each class\n",
        "            for label, prediction in zip(labels, predictions):\n",
        "                if label == prediction:\n",
        "                    correct_pred[classes[label]] += 1\n",
        "                total_pred[classes[label]] += 1\n",
        "\n",
        "\n",
        "    # print accuracy for each class\n",
        "    for classname, correct_count in correct_pred.items():\n",
        "        acc = 100 * float(correct_count) / total_pred[classname]\n",
        "        print(\"Accuracy for class {:5s} is: {:.1f} %\".format(classname,\n",
        "                                                       acc))"
      ]
    },
    {
      "cell_type": "code",
      "execution_count": 43,
      "metadata": {
        "colab": {
          "base_uri": "https://localhost:8080/"
        },
        "id": "YKeW9w9REhea",
        "outputId": "67b9db5c-724d-41f6-e579-136a62c869c3"
      },
      "outputs": [
        {
          "output_type": "stream",
          "name": "stdout",
          "text": [
            "Accuracy for class plane is: 64.5 %\n",
            "Accuracy for class car   is: 64.8 %\n",
            "Accuracy for class bird  is: 35.1 %\n",
            "Accuracy for class cat   is: 26.3 %\n",
            "Accuracy for class deer  is: 49.0 %\n",
            "Accuracy for class dog   is: 46.0 %\n",
            "Accuracy for class frog  is: 70.4 %\n",
            "Accuracy for class horse is: 57.1 %\n",
            "Accuracy for class ship  is: 56.5 %\n",
            "Accuracy for class truck is: 65.0 %\n"
          ]
        }
      ],
      "source": [
        "class_test(net, testloader)"
      ]
    },
    {
      "cell_type": "markdown",
      "metadata": {
        "id": "PC4OPjmEEhea"
      },
      "source": [
        "# Your turn now!"
      ]
    },
    {
      "cell_type": "markdown",
      "metadata": {
        "id": "gGZOdnRAEhea"
      },
      "source": [
        "## Define a Convolutional Neural Network\n",
        "\n",
        "The architecture should be:\n",
        "\n",
        "    conv2d, 5x5, 3->8, padding=2\n",
        "\n",
        "    Relu()\n",
        "\n",
        "    conv2d, 5x5, 8->16, padding=2, stride=2\n",
        "\n",
        "    Relu()\n",
        "\n",
        "    conv2d, 5x5, 16->32, padding=2\n",
        "    \n",
        "    Relu()\n",
        "\n",
        "    conv2d, 5x5, 32->64, padding=2, stride=2\n",
        "    \n",
        "    Relu()\n",
        "\n",
        "    conv2d, 5x5, 64->128, padding=2\n",
        "\n",
        "    maxpool2d\n",
        "\n",
        "    Relu()\n",
        "\n",
        "    flatten the feature map\n",
        "\n",
        "    fc, the whole feature map -> 120\n",
        "\n",
        "    Relu()\n",
        "\n",
        "    fc, 120->84\n",
        "\n",
        "    Relu()\n",
        "\n",
        "    fc, 84->10\n",
        "    "
      ]
    },
    {
      "cell_type": "code",
      "execution_count": 9,
      "metadata": {
        "id": "4aDmcmQVEhea"
      },
      "outputs": [],
      "source": [
        "import torch.nn as nn\n",
        "import torch.nn.functional as F\n",
        "\n",
        "\n",
        "class ConvolutionNet(nn.Module):\n",
        "    def __init__(self):\n",
        "        super().__init__()\n",
        "        self.conv1 = nn.Conv2d(3, 8, kernel_size=5, padding=2)\n",
        "        self.conv2 = nn.Conv2d(8, 16, kernel_size=5, padding=2, stride=2)\n",
        "        self.conv3 = nn.Conv2d(16, 32, kernel_size=5, padding=2)\n",
        "        self.conv4 = nn.Conv2d(32, 64, kernel_size=5, padding=2, stride=2)\n",
        "        self.conv5 = nn.Conv2d(64, 128, kernel_size=5, padding=2)\n",
        "        self.pool = nn.MaxPool2d(2, 2)\n",
        "        self.fc1 = nn.Linear(128 * 4 * 4, 120) # Assuming input image size 32x32\n",
        "        self.fc2 = nn.Linear(120, 84)\n",
        "        self.fc3 = nn.Linear(84, 10)\n",
        "        pass\n",
        "\n",
        "    def forward(self, x):\n",
        "        x = F.relu(self.conv1(x))\n",
        "        x = F.relu(self.conv2(x))\n",
        "        x = F.relu(self.conv3(x))\n",
        "        x = F.relu(self.conv4(x))\n",
        "        x = self.pool(F.relu(self.conv5(x)))\n",
        "        x = x.view(-1, 128 * 4 * 4) # Flatten the feature map\n",
        "        x = F.relu(self.fc1(x))\n",
        "        x = F.relu(self.fc2(x))\n",
        "        x = self.fc3(x)\n",
        "        pass\n",
        "        return x\n",
        "cnn_net = ConvolutionNet()"
      ]
    },
    {
      "cell_type": "markdown",
      "metadata": {
        "id": "t6n8zSp1Ehea"
      },
      "source": [
        "## Train the convolutional neural network\n",
        "\n",
        "Train this CNN with learning rate 1e-2 for 5 epochs.\n",
        "\n",
        "You should see the training loss is aroung 0.9 and accuracy is around 67%."
      ]
    },
    {
      "cell_type": "code",
      "execution_count": 10,
      "metadata": {
        "id": "m_X7Un3-Ehea"
      },
      "outputs": [],
      "source": [
        "def forward_step(net, inputs, labels):\n",
        "    outputs = net(inputs)\n",
        "    loss = criterion(outputs, labels)\n",
        "    return outputs, loss, labels\n",
        "\n",
        "\n",
        "def train(net, loader, optimizer, max_epoch):\n",
        "    net.to(device)\n",
        "    net.train()\n",
        "    N = len(loader)\n",
        "    print_interval = (N // 8 // 100 + 1) * 100\n",
        "    for epoch in range(max_epoch):  # loop over the dataset multiple times\n",
        "\n",
        "        running_loss = 0.0\n",
        "        running_acc = 0.0\n",
        "        for i, data in enumerate(loader, 0):\n",
        "            # get the inputs; data is a list of [inputs, labels]\n",
        "            images, labels = data[0].to(device), data[1].to(device)\n",
        "\n",
        "            # zero the parameter gradients\n",
        "            optimizer.zero_grad()\n",
        "\n",
        "            # forward + backward + optimize\n",
        "            outputs, loss, labels = forward_step(net, images, labels)\n",
        "            loss.backward()\n",
        "            optimizer.step()\n",
        "\n",
        "            # print statistics\n",
        "            running_loss += loss.item()\n",
        "            running_acc += accuracy(outputs, labels).item()\n",
        "            if (i + 1) % print_interval == 0:\n",
        "                print('Epoch: [%d / %d], batches: [%d / %d], loss: %.3f, acc: %.2f' %\n",
        "                      (epoch + 1, max_epoch, i + 1, N,\n",
        "                       running_loss / print_interval, 100 * running_acc / print_interval))\n",
        "                running_loss = 0.0\n",
        "                running_acc = 0.0\n",
        "\n",
        "    print('Finished Training')"
      ]
    },
    {
      "cell_type": "code",
      "source": [
        "optimizer = get_optimizer(cnn_net, lr=0.01)\n",
        "train(cnn_net, trainloader, optimizer, 5)"
      ],
      "metadata": {
        "colab": {
          "base_uri": "https://localhost:8080/"
        },
        "id": "qdsnbI81NgLc",
        "outputId": "4536e6c0-5351-4f56-e14f-a17e13d01b6b"
      },
      "execution_count": 11,
      "outputs": [
        {
          "output_type": "stream",
          "name": "stdout",
          "text": [
            "Epoch: [1 / 5], batches: [100 / 782], loss: 2.304, acc: 9.86\n",
            "Epoch: [1 / 5], batches: [200 / 782], loss: 2.303, acc: 10.39\n",
            "Epoch: [1 / 5], batches: [300 / 782], loss: 2.302, acc: 10.20\n",
            "Epoch: [1 / 5], batches: [400 / 782], loss: 2.289, acc: 12.09\n",
            "Epoch: [1 / 5], batches: [500 / 782], loss: 2.147, acc: 21.81\n",
            "Epoch: [1 / 5], batches: [600 / 782], loss: 2.023, acc: 25.34\n",
            "Epoch: [1 / 5], batches: [700 / 782], loss: 1.954, acc: 26.50\n",
            "Epoch: [2 / 5], batches: [100 / 782], loss: 1.865, acc: 30.72\n",
            "Epoch: [2 / 5], batches: [200 / 782], loss: 1.746, acc: 35.69\n",
            "Epoch: [2 / 5], batches: [300 / 782], loss: 1.721, acc: 35.95\n",
            "Epoch: [2 / 5], batches: [400 / 782], loss: 1.653, acc: 39.73\n",
            "Epoch: [2 / 5], batches: [500 / 782], loss: 1.642, acc: 40.19\n",
            "Epoch: [2 / 5], batches: [600 / 782], loss: 1.580, acc: 42.42\n",
            "Epoch: [2 / 5], batches: [700 / 782], loss: 1.543, acc: 43.19\n",
            "Epoch: [3 / 5], batches: [100 / 782], loss: 1.445, acc: 47.48\n",
            "Epoch: [3 / 5], batches: [200 / 782], loss: 1.417, acc: 48.19\n",
            "Epoch: [3 / 5], batches: [300 / 782], loss: 1.403, acc: 49.39\n",
            "Epoch: [3 / 5], batches: [400 / 782], loss: 1.377, acc: 49.92\n",
            "Epoch: [3 / 5], batches: [500 / 782], loss: 1.356, acc: 50.84\n",
            "Epoch: [3 / 5], batches: [600 / 782], loss: 1.316, acc: 52.39\n",
            "Epoch: [3 / 5], batches: [700 / 782], loss: 1.307, acc: 52.53\n",
            "Epoch: [4 / 5], batches: [100 / 782], loss: 1.208, acc: 57.27\n",
            "Epoch: [4 / 5], batches: [200 / 782], loss: 1.186, acc: 57.80\n",
            "Epoch: [4 / 5], batches: [300 / 782], loss: 1.182, acc: 58.25\n",
            "Epoch: [4 / 5], batches: [400 / 782], loss: 1.185, acc: 56.66\n",
            "Epoch: [4 / 5], batches: [500 / 782], loss: 1.150, acc: 59.16\n",
            "Epoch: [4 / 5], batches: [600 / 782], loss: 1.141, acc: 60.02\n",
            "Epoch: [4 / 5], batches: [700 / 782], loss: 1.144, acc: 59.42\n",
            "Epoch: [5 / 5], batches: [100 / 782], loss: 1.031, acc: 63.20\n",
            "Epoch: [5 / 5], batches: [200 / 782], loss: 1.004, acc: 64.00\n",
            "Epoch: [5 / 5], batches: [300 / 782], loss: 1.028, acc: 63.34\n",
            "Epoch: [5 / 5], batches: [400 / 782], loss: 1.016, acc: 64.53\n",
            "Epoch: [5 / 5], batches: [500 / 782], loss: 0.994, acc: 64.42\n",
            "Epoch: [5 / 5], batches: [600 / 782], loss: 1.008, acc: 64.12\n",
            "Epoch: [5 / 5], batches: [700 / 782], loss: 1.008, acc: 64.14\n",
            "Finished Training\n"
          ]
        }
      ]
    },
    {
      "cell_type": "markdown",
      "source": [
        "**Save CNN model**"
      ],
      "metadata": {
        "id": "j5vgdJ-3PHjK"
      }
    },
    {
      "cell_type": "code",
      "source": [
        "PATH = './checkpoints/cifar_cnn_net.pth'\n",
        "save_model(cnn_net, PATH)"
      ],
      "metadata": {
        "id": "J-GrfP8GPF0C"
      },
      "execution_count": 12,
      "outputs": []
    },
    {
      "cell_type": "markdown",
      "source": [],
      "metadata": {
        "id": "tCkwp4irPYK5"
      }
    },
    {
      "cell_type": "markdown",
      "metadata": {
        "id": "ucdNzFK5Eheb"
      },
      "source": [
        "## Test the convolutional neural network\n",
        "\n",
        "Test this CNN on the test dataset.\n",
        "\n",
        "You should see the accuracy is around 62%."
      ]
    },
    {
      "cell_type": "code",
      "source": [
        "test(cnn_net, testloader)"
      ],
      "metadata": {
        "colab": {
          "base_uri": "https://localhost:8080/"
        },
        "id": "XoOXdGKMRw73",
        "outputId": "e553f10e-eb8e-4370-ea61-8863d435838d"
      },
      "execution_count": 23,
      "outputs": [
        {
          "output_type": "stream",
          "name": "stdout",
          "text": [
            "Accuracy of the network on the 10000 test images: 61 %\n"
          ]
        }
      ]
    },
    {
      "cell_type": "markdown",
      "metadata": {
        "id": "xJ-YGaQsEheg"
      },
      "source": [
        "## Accuracy (each class) of CNN\n",
        "\n",
        "Test this CNN on the test dataset to see the accuracy of each class."
      ]
    },
    {
      "cell_type": "code",
      "execution_count": 13,
      "metadata": {
        "colab": {
          "base_uri": "https://localhost:8080/",
          "height": 282
        },
        "id": "p5qG1HjxEheg",
        "outputId": "5b0ddf60-1b27-4a9e-e1c7-f56d86081be2"
      },
      "outputs": [
        {
          "output_type": "display_data",
          "data": {
            "text/plain": [
              "<Figure size 640x480 with 1 Axes>"
            ],
            "image/png": "[encoded data removed]"
          },
          "metadata": {}
        },
        {
          "output_type": "stream",
          "name": "stdout",
          "text": [
            "GroundTruth:    dog horse   dog  frog\n",
            "Predicted:    dog  deer   cat  frog\n"
          ]
        },
        {
          "output_type": "stream",
          "name": "stderr",
          "text": [
            "<ipython-input-13-918db771d59a>:7: FutureWarning: You are using `torch.load` with `weights_only=False` (the current default value), which uses the default pickle module implicitly. It is possible to construct malicious pickle data which will execute arbitrary code during unpickling (See https://github.com/pytorch/pytorch/blob/main/SECURITY.md#untrusted-models for more details). In a future release, the default value for `weights_only` will be flipped to `True`. This limits the functions that could be executed during unpickling. Arbitrary objects will no longer be allowed to be loaded via this mode unless they are explicitly allowlisted by the user via `torch.serialization.add_safe_globals`. We recommend you start setting `weights_only=True` for any use case where you don't have full control of the loaded file. Please open an issue on GitHub for any issues related to this experimental feature.\n",
            "  net.load_state_dict(torch.load(path))\n"
          ]
        }
      ],
      "source": [
        "imshow(torchvision.utils.make_grid(images))\n",
        "print('GroundTruth: ', ' '.join('%5s' % classes[labels[j]] for j in range(4)))\n",
        "\n",
        "net = ConvolutionNet()\n",
        "\n",
        "def load_model(net, path):\n",
        "    net.load_state_dict(torch.load(path))\n",
        "\n",
        "load_model(net, PATH)\n",
        "outputs = net(images)\n",
        "_, predicted = torch.max(outputs, 1)\n",
        "\n",
        "print('Predicted: ', ' '.join('%5s' % classes[predicted[j]]\n",
        "                            for j in range(4)))\n",
        "\n",
        "def test(net, testloader):\n",
        "    correct = 0"
      ]
    },
    {
      "cell_type": "code",
      "execution_count": 14,
      "metadata": {
        "colab": {
          "base_uri": "https://localhost:8080/"
        },
        "id": "2yElm5kpEheg",
        "outputId": "76fb743c-5bfa-4bb4-9ff1-83a992819eb4"
      },
      "outputs": [
        {
          "output_type": "stream",
          "name": "stdout",
          "text": [
            "Accuracy for class plane is: 68.1 %\n",
            "Accuracy for class car   is: 68.7 %\n",
            "Accuracy for class bird  is: 37.8 %\n",
            "Accuracy for class cat   is: 32.3 %\n",
            "Accuracy for class deer  is: 49.6 %\n",
            "Accuracy for class dog   is: 65.3 %\n",
            "Accuracy for class frog  is: 58.4 %\n",
            "Accuracy for class horse is: 79.4 %\n",
            "Accuracy for class ship  is: 83.0 %\n",
            "Accuracy for class truck is: 70.1 %\n"
          ]
        }
      ],
      "source": [
        "def class_test(net, testloader):\n",
        "    # prepare to count predictions for each class\n",
        "    correct_pred = {classname: 0 for classname in classes}\n",
        "    total_pred = {classname: 0 for classname in classes}\n",
        "\n",
        "    net.to(device)\n",
        "    net.eval()\n",
        "    # again no gradients needed\n",
        "    with torch.no_grad():\n",
        "        for data in testloader:\n",
        "            images, labels = data[0].to(device), data[1].to(device)\n",
        "            outputs = net(images)\n",
        "            _, predictions = torch.max(outputs, 1)\n",
        "            # collect the correct predictions for each class\n",
        "            for label, prediction in zip(labels, predictions):\n",
        "                if label == prediction:\n",
        "                    correct_pred[classes[label]] += 1\n",
        "                total_pred[classes[label]] += 1\n",
        "\n",
        "\n",
        "    # print accuracy for each class\n",
        "    for classname, correct_count in correct_pred.items():\n",
        "        acc = 100 * float(correct_count) / total_pred[classname]\n",
        "        print(\"Accuracy for class {:5s} is: {:.1f} %\".format(classname, acc))\n",
        "\n",
        "class_test(net, testloader)"
      ]
    },
    {
      "cell_type": "markdown",
      "metadata": {
        "id": "r1Xm7qaCEheg"
      },
      "source": [
        "## Let's use BN\n",
        "\n",
        "Add BatchNorm2d to the convolution neural network you implemented.\n",
        "\n",
        "You should add batchnorm after the convolution operator and before the activation layer.\n",
        "\n",
        "Please train this network and show the test accuracy."
      ]
    },
    {
      "cell_type": "code",
      "execution_count": 15,
      "metadata": {
        "id": "G2UlMVLWEheg"
      },
      "outputs": [],
      "source": [
        "import torch.nn as nn\n",
        "import torch.nn.functional as F\n",
        "\n",
        "class ConvolutionBNNet(nn.Module):\n",
        "    def __init__(self):\n",
        "        super().__init__()\n",
        "        '''\n",
        "        Implement here.\n",
        "        '''\n",
        "        self.conv1 = nn.Conv2d(3, 8, kernel_size=5, padding=2)\n",
        "        self.bn1 = nn.BatchNorm2d(8)\n",
        "        self.conv2 = nn.Conv2d(8, 16, kernel_size=5, padding=2, stride=2)\n",
        "        self.bn2 = nn.BatchNorm2d(16)\n",
        "        self.conv3 = nn.Conv2d(16, 32, kernel_size=5, padding=2)\n",
        "        self.bn3 = nn.BatchNorm2d(32)\n",
        "        self.conv4 = nn.Conv2d(32, 64, kernel_size=5, padding=2, stride=2)\n",
        "        self.bn4 = nn.BatchNorm2d(64)\n",
        "        self.conv5 = nn.Conv2d(64, 128, kernel_size=5, padding=2)\n",
        "        self.bn5 = nn.BatchNorm2d(128)\n",
        "        self.pool = nn.MaxPool2d(2, 2)\n",
        "        self.fc1 = nn.Linear(128 * 4 * 4, 120) # Assuming input image size 32x32 and considering stride and pooling\n",
        "        self.fc2 = nn.Linear(120, 84)\n",
        "        self.fc3 = nn.Linear(84, 10)\n",
        "        pass\n",
        "\n",
        "    def forward(self, x):\n",
        "        '''\n",
        "        Implement here\n",
        "        '''\n",
        "        x = F.relu(self.bn1(self.conv1(x)))\n",
        "        x = F.relu(self.bn2(self.conv2(x)))\n",
        "        x = F.relu(self.bn3(self.conv3(x)))\n",
        "        x = F.relu(self.bn4(self.conv4(x)))\n",
        "        x = self.pool(F.relu(self.bn5(self.conv5(x))))\n",
        "        x = x.view(-1, 128 * 4 * 4) # Flatten the feature map\n",
        "        x = F.relu(self.fc1(x))\n",
        "        x = F.relu(self.fc2(x))\n",
        "        x = self.fc3(x)\n",
        "        pass\n",
        "        return x\n"
      ]
    },
    {
      "cell_type": "code",
      "source": [
        "cnn_bn_net = ConvolutionBNNet()"
      ],
      "metadata": {
        "id": "LpJZu2MtQOzy"
      },
      "execution_count": 17,
      "outputs": []
    },
    {
      "cell_type": "markdown",
      "metadata": {
        "id": "0238EizkEheh"
      },
      "source": [
        "## Train the CNN with BN\n",
        "\n",
        "Train this CNN with learning rate 1e-2 for 5 epochs."
      ]
    },
    {
      "cell_type": "code",
      "execution_count": 19,
      "metadata": {
        "colab": {
          "base_uri": "https://localhost:8080/"
        },
        "id": "hqffiJf8Eheh",
        "outputId": "683ec524-1948-46a9-f7f4-2aee3d68db48"
      },
      "outputs": [
        {
          "output_type": "stream",
          "name": "stdout",
          "text": [
            "Epoch: [1 / 5], batches: [100 / 782], loss: 1.931, acc: 26.64\n",
            "Epoch: [1 / 5], batches: [200 / 782], loss: 1.616, acc: 39.95\n",
            "Epoch: [1 / 5], batches: [300 / 782], loss: 1.501, acc: 44.73\n",
            "Epoch: [1 / 5], batches: [400 / 782], loss: 1.363, acc: 50.05\n",
            "Epoch: [1 / 5], batches: [500 / 782], loss: 1.345, acc: 51.00\n",
            "Epoch: [1 / 5], batches: [600 / 782], loss: 1.243, acc: 54.83\n",
            "Epoch: [1 / 5], batches: [700 / 782], loss: 1.195, acc: 56.98\n",
            "Epoch: [2 / 5], batches: [100 / 782], loss: 1.067, acc: 62.23\n",
            "Epoch: [2 / 5], batches: [200 / 782], loss: 1.038, acc: 63.34\n",
            "Epoch: [2 / 5], batches: [300 / 782], loss: 1.029, acc: 64.06\n",
            "Epoch: [2 / 5], batches: [400 / 782], loss: 1.023, acc: 63.44\n",
            "Epoch: [2 / 5], batches: [500 / 782], loss: 0.953, acc: 65.92\n",
            "Epoch: [2 / 5], batches: [600 / 782], loss: 0.925, acc: 66.80\n",
            "Epoch: [2 / 5], batches: [700 / 782], loss: 0.916, acc: 67.47\n",
            "Epoch: [3 / 5], batches: [100 / 782], loss: 0.807, acc: 72.17\n",
            "Epoch: [3 / 5], batches: [200 / 782], loss: 0.826, acc: 70.45\n",
            "Epoch: [3 / 5], batches: [300 / 782], loss: 0.787, acc: 72.20\n",
            "Epoch: [3 / 5], batches: [400 / 782], loss: 0.791, acc: 71.83\n",
            "Epoch: [3 / 5], batches: [500 / 782], loss: 0.794, acc: 72.42\n",
            "Epoch: [3 / 5], batches: [600 / 782], loss: 0.744, acc: 74.36\n",
            "Epoch: [3 / 5], batches: [700 / 782], loss: 0.784, acc: 72.78\n",
            "Epoch: [4 / 5], batches: [100 / 782], loss: 0.656, acc: 76.34\n",
            "Epoch: [4 / 5], batches: [200 / 782], loss: 0.678, acc: 76.62\n",
            "Epoch: [4 / 5], batches: [300 / 782], loss: 0.668, acc: 76.47\n",
            "Epoch: [4 / 5], batches: [400 / 782], loss: 0.666, acc: 76.75\n",
            "Epoch: [4 / 5], batches: [500 / 782], loss: 0.688, acc: 76.19\n",
            "Epoch: [4 / 5], batches: [600 / 782], loss: 0.643, acc: 77.03\n",
            "Epoch: [4 / 5], batches: [700 / 782], loss: 0.673, acc: 76.14\n",
            "Epoch: [5 / 5], batches: [100 / 782], loss: 0.551, acc: 81.28\n",
            "Epoch: [5 / 5], batches: [200 / 782], loss: 0.564, acc: 80.62\n",
            "Epoch: [5 / 5], batches: [300 / 782], loss: 0.576, acc: 79.61\n",
            "Epoch: [5 / 5], batches: [400 / 782], loss: 0.565, acc: 79.94\n",
            "Epoch: [5 / 5], batches: [500 / 782], loss: 0.579, acc: 79.92\n",
            "Epoch: [5 / 5], batches: [600 / 782], loss: 0.586, acc: 79.56\n",
            "Epoch: [5 / 5], batches: [700 / 782], loss: 0.575, acc: 79.67\n",
            "Finished Training\n"
          ]
        }
      ],
      "source": [
        "'''\n",
        "Implement here\n",
        "'''\n",
        "optimizer = get_optimizer(cnn_bn_net, lr=0.01)\n",
        "train(cnn_bn_net, trainloader, optimizer, 5)"
      ]
    },
    {
      "cell_type": "markdown",
      "source": [
        "** Save CNN BN model **\n"
      ],
      "metadata": {
        "id": "5LxMmKpxQ_ei"
      }
    },
    {
      "cell_type": "code",
      "source": [
        "PATH = './checkpoints/cifar_cnn_bn_net.pth'\n",
        "\n",
        "save_model(cnn_bn_net, PATH)"
      ],
      "metadata": {
        "id": "4tuvFO6VRD3R"
      },
      "execution_count": 20,
      "outputs": []
    },
    {
      "cell_type": "markdown",
      "metadata": {
        "id": "TToSFDFZEheh"
      },
      "source": [
        "## Test the CNN with BN\n",
        "\n",
        "Test this CNN on the test dataset."
      ]
    },
    {
      "cell_type": "code",
      "execution_count": 24,
      "metadata": {
        "colab": {
          "base_uri": "https://localhost:8080/"
        },
        "id": "eDVw_jEjEheh",
        "outputId": "21b76289-3aea-4cb7-96be-8b72b230d3bf"
      },
      "outputs": [
        {
          "output_type": "stream",
          "name": "stdout",
          "text": [
            "Accuracy of the network on the 10000 test images: 75 %\n"
          ]
        }
      ],
      "source": [
        "'''\n",
        "Implement here\n",
        "'''\n",
        "test(cnn_bn_net, testloader)"
      ]
    },
    {
      "cell_type": "markdown",
      "metadata": {
        "id": "Dymz6uyiEheh"
      },
      "source": [
        "## Accuracy (each class) of CNN with BN\n",
        "\n",
        "Test this CNN with BNN on the test dataset to see the accuracy of each class."
      ]
    },
    {
      "cell_type": "code",
      "execution_count": 25,
      "metadata": {
        "colab": {
          "base_uri": "https://localhost:8080/"
        },
        "id": "YDld3xKnEheh",
        "outputId": "38aacd09-7698-4627-9059-496cd42cfd75"
      },
      "outputs": [
        {
          "output_type": "stream",
          "name": "stdout",
          "text": [
            "Accuracy for class plane is: 78.2 %\n",
            "Accuracy for class car   is: 86.4 %\n",
            "Accuracy for class bird  is: 56.8 %\n",
            "Accuracy for class cat   is: 60.0 %\n",
            "Accuracy for class deer  is: 80.3 %\n",
            "Accuracy for class dog   is: 70.7 %\n",
            "Accuracy for class frog  is: 83.8 %\n",
            "Accuracy for class horse is: 70.3 %\n",
            "Accuracy for class ship  is: 87.5 %\n",
            "Accuracy for class truck is: 82.7 %\n"
          ]
        }
      ],
      "source": [
        "'''\n",
        "Implemente here, use the class_test function provided.\n",
        "'''\n",
        "class_test(cnn_bn_net, testloader)"
      ]
    },
    {
      "cell_type": "markdown",
      "metadata": {
        "id": "aClBjUhCEhei"
      },
      "source": [
        "## Design by yourself\n",
        "Now, based on the knowledge learned in class or by referring to online resources, you can design your own network architecture or incorporate other optimization methods to improve task performance. Please provide at least one improvement strategy."
      ]
    },
    {
      "cell_type": "code",
      "execution_count": 35,
      "metadata": {
        "colab": {
          "base_uri": "https://localhost:8080/"
        },
        "id": "T9ay6iELEhei",
        "outputId": "1869c4b5-a953-4dae-d943-c25eb0838543"
      },
      "outputs": [
        {
          "output_type": "stream",
          "name": "stdout",
          "text": [
            "Epoch: [1 / 5], batches: [100 / 782], loss: 1.959, acc: 27.09\n",
            "Epoch: [1 / 5], batches: [200 / 782], loss: 1.631, acc: 39.44\n",
            "Epoch: [1 / 5], batches: [300 / 782], loss: 1.509, acc: 43.95\n",
            "Epoch: [1 / 5], batches: [400 / 782], loss: 1.415, acc: 47.77\n",
            "Epoch: [1 / 5], batches: [500 / 782], loss: 1.362, acc: 50.42\n",
            "Epoch: [1 / 5], batches: [600 / 782], loss: 1.287, acc: 53.55\n",
            "Epoch: [1 / 5], batches: [700 / 782], loss: 1.263, acc: 54.17\n",
            "Epoch: [2 / 5], batches: [100 / 782], loss: 1.124, acc: 59.95\n",
            "Epoch: [2 / 5], batches: [200 / 782], loss: 1.089, acc: 60.83\n",
            "Epoch: [2 / 5], batches: [300 / 782], loss: 1.049, acc: 62.44\n",
            "Epoch: [2 / 5], batches: [400 / 782], loss: 1.042, acc: 62.38\n",
            "Epoch: [2 / 5], batches: [500 / 782], loss: 1.010, acc: 63.97\n",
            "Epoch: [2 / 5], batches: [600 / 782], loss: 0.977, acc: 65.20\n",
            "Epoch: [2 / 5], batches: [700 / 782], loss: 0.933, acc: 66.33\n",
            "Epoch: [3 / 5], batches: [100 / 782], loss: 0.881, acc: 68.75\n",
            "Epoch: [3 / 5], batches: [200 / 782], loss: 0.878, acc: 68.61\n",
            "Epoch: [3 / 5], batches: [300 / 782], loss: 0.854, acc: 69.81\n",
            "Epoch: [3 / 5], batches: [400 / 782], loss: 0.855, acc: 69.36\n",
            "Epoch: [3 / 5], batches: [500 / 782], loss: 0.850, acc: 69.56\n",
            "Epoch: [3 / 5], batches: [600 / 782], loss: 0.789, acc: 72.12\n",
            "Epoch: [3 / 5], batches: [700 / 782], loss: 0.819, acc: 71.39\n",
            "Epoch: [4 / 5], batches: [100 / 782], loss: 0.725, acc: 74.36\n",
            "Epoch: [4 / 5], batches: [200 / 782], loss: 0.730, acc: 74.06\n",
            "Epoch: [4 / 5], batches: [300 / 782], loss: 0.712, acc: 74.45\n",
            "Epoch: [4 / 5], batches: [400 / 782], loss: 0.713, acc: 74.86\n",
            "Epoch: [4 / 5], batches: [500 / 782], loss: 0.725, acc: 74.56\n",
            "Epoch: [4 / 5], batches: [600 / 782], loss: 0.707, acc: 74.91\n",
            "Epoch: [4 / 5], batches: [700 / 782], loss: 0.717, acc: 74.77\n",
            "Epoch: [5 / 5], batches: [100 / 782], loss: 0.629, acc: 78.00\n",
            "Epoch: [5 / 5], batches: [200 / 782], loss: 0.604, acc: 78.61\n",
            "Epoch: [5 / 5], batches: [300 / 782], loss: 0.630, acc: 78.47\n",
            "Epoch: [5 / 5], batches: [400 / 782], loss: 0.617, acc: 78.58\n",
            "Epoch: [5 / 5], batches: [500 / 782], loss: 0.621, acc: 77.89\n",
            "Epoch: [5 / 5], batches: [600 / 782], loss: 0.613, acc: 78.31\n",
            "Epoch: [5 / 5], batches: [700 / 782], loss: 0.621, acc: 78.52\n",
            "Finished Training\n"
          ]
        }
      ],
      "source": [
        "'''\n",
        "Implement here\n",
        "'''\n",
        "import torch.nn as nn\n",
        "import torch.nn.functional as F\n",
        "\n",
        "class ConvolutionBNNet1(nn.Module):\n",
        "    def __init__(self):\n",
        "        super().__init__()\n",
        "        '''\n",
        "        Implement here.\n",
        "        '''\n",
        "        self.conv1 = nn.Conv2d(3, 8, kernel_size=3, padding=1)\n",
        "        self.bn1 = nn.BatchNorm2d(8)\n",
        "        self.conv2 = nn.Conv2d(8, 16, kernel_size=3, padding=1, stride=2)\n",
        "        self.bn2 = nn.BatchNorm2d(16)\n",
        "        self.conv3 = nn.Conv2d(16, 32, kernel_size=3, padding=1)\n",
        "        self.bn3 = nn.BatchNorm2d(32)\n",
        "        self.conv4 = nn.Conv2d(32, 64, kernel_size=3, padding=1, stride=2)\n",
        "        self.bn4 = nn.BatchNorm2d(64)\n",
        "        self.conv5 = nn.Conv2d(64, 128, kernel_size=3, padding=1)\n",
        "        self.bn5 = nn.BatchNorm2d(128)\n",
        "        self.pool = nn.MaxPool2d(2, 2)\n",
        "        self.fc1 = nn.Linear(128 * 4 * 4, 120) # Assuming input image size 32x32 and considering stride and pooling\n",
        "        self.fc2 = nn.Linear(120, 84)\n",
        "        self.fc3 = nn.Linear(84, 10)\n",
        "        pass\n",
        "\n",
        "    def forward(self, x):\n",
        "        '''\n",
        "        Implement here\n",
        "        '''\n",
        "        x = F.leaky_relu(self.bn1(self.conv1(x)))\n",
        "        x = F.leaky_relu(self.bn2(self.conv2(x)))\n",
        "        x = F.leaky_relu(self.bn3(self.conv3(x)))\n",
        "        x = F.leaky_relu(self.bn4(self.conv4(x)))\n",
        "        x = self.pool(F.relu(self.bn5(self.conv5(x))))\n",
        "        x = x.view(-1, 128 * 4 * 4) # Flatten the feature map\n",
        "        x = F.leaky_relu(self.fc1(x))\n",
        "        x = F.leaky_relu(self.fc2(x))\n",
        "        x = self.fc3(x)\n",
        "        pass\n",
        "        return x\n",
        "\n",
        "\n",
        "cnn_bn_net1 = ConvolutionBNNet1()\n",
        "optimizer = get_optimizer(cnn_bn_net1, lr=0.01)\n",
        "train(cnn_bn_net1, trainloader, optimizer, 5)"
      ]
    },
    {
      "cell_type": "code",
      "source": [
        "test(cnn_bn_net1, testloader)"
      ],
      "metadata": {
        "colab": {
          "base_uri": "https://localhost:8080/"
        },
        "id": "A0kZBCeDTFzz",
        "outputId": "e184c0a2-b51a-440e-f9d9-8ccd564f080e"
      },
      "execution_count": 36,
      "outputs": [
        {
          "output_type": "stream",
          "name": "stdout",
          "text": [
            "Accuracy of the network on the 10000 test images: 73 %\n"
          ]
        }
      ]
    },
    {
      "cell_type": "markdown",
      "metadata": {
        "id": "hRjKj7m9Ehei"
      },
      "source": [
        "## Good Job!"
      ]
    }
  ],
  "metadata": {
    "kernelspec": {
      "display_name": "pytorch2023",
      "language": "python",
      "name": "pytorch2023"
    },
    "language_info": {
      "codemirror_mode": {
        "name": "ipython",
        "version": 3
      },
      "file_extension": ".py",
      "mimetype": "text/x-python",
      "name": "python",
      "nbconvert_exporter": "python",
      "pygments_lexer": "ipython3",
      "version": "3.9.19"
    },
    "colab": {
      "provenance": [],
      "toc_visible": true,
      "gpuType": "T4",
      "include_colab_link": true
    },
    "accelerator": "GPU"
  },
  "nbformat": 4,
  "nbformat_minor": 0
}